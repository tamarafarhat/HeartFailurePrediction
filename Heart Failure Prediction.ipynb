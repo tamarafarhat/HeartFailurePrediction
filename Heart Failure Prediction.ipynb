{
 "cells": [
  {
   "cell_type": "code",
   "execution_count": 306,
   "metadata": {},
   "outputs": [],
   "source": [
    "import numpy as np\n",
    "import pandas as pd\n",
    "\n",
    "%matplotlib inline\n",
    "import matplotlib.pyplot as plt\n",
    "import seaborn as sns\n",
    "from sklearn.neighbors import KNeighborsClassifier\n",
    "from sklearn import metrics\n",
    "from sklearn.metrics import classification_report\n",
    "from sklearn.model_selection import train_test_split\n",
    "from sklearn.metrics import roc_auc_score\n",
    "from sklearn.model_selection import GridSearchCV"
   ]
  },
  {
   "cell_type": "code",
   "execution_count": 307,
   "metadata": {},
   "outputs": [
    {
     "data": {
      "text/html": [
       "<div>\n",
       "<style scoped>\n",
       "    .dataframe tbody tr th:only-of-type {\n",
       "        vertical-align: middle;\n",
       "    }\n",
       "\n",
       "    .dataframe tbody tr th {\n",
       "        vertical-align: top;\n",
       "    }\n",
       "\n",
       "    .dataframe thead th {\n",
       "        text-align: right;\n",
       "    }\n",
       "</style>\n",
       "<table border=\"1\" class=\"dataframe\">\n",
       "  <thead>\n",
       "    <tr style=\"text-align: right;\">\n",
       "      <th></th>\n",
       "      <th>age</th>\n",
       "      <th>anaemia</th>\n",
       "      <th>creatinine_phosphokinase</th>\n",
       "      <th>diabetes</th>\n",
       "      <th>ejection_fraction</th>\n",
       "      <th>high_blood_pressure</th>\n",
       "      <th>platelets</th>\n",
       "      <th>serum_creatinine</th>\n",
       "      <th>serum_sodium</th>\n",
       "      <th>sex</th>\n",
       "      <th>smoking</th>\n",
       "      <th>time</th>\n",
       "      <th>DEATH_EVENT</th>\n",
       "    </tr>\n",
       "  </thead>\n",
       "  <tbody>\n",
       "    <tr>\n",
       "      <th>0</th>\n",
       "      <td>75.0</td>\n",
       "      <td>0</td>\n",
       "      <td>582</td>\n",
       "      <td>0</td>\n",
       "      <td>20</td>\n",
       "      <td>1</td>\n",
       "      <td>265000.00</td>\n",
       "      <td>1.9</td>\n",
       "      <td>130</td>\n",
       "      <td>1</td>\n",
       "      <td>0</td>\n",
       "      <td>4</td>\n",
       "      <td>1</td>\n",
       "    </tr>\n",
       "    <tr>\n",
       "      <th>1</th>\n",
       "      <td>55.0</td>\n",
       "      <td>0</td>\n",
       "      <td>7861</td>\n",
       "      <td>0</td>\n",
       "      <td>38</td>\n",
       "      <td>0</td>\n",
       "      <td>263358.03</td>\n",
       "      <td>1.1</td>\n",
       "      <td>136</td>\n",
       "      <td>1</td>\n",
       "      <td>0</td>\n",
       "      <td>6</td>\n",
       "      <td>1</td>\n",
       "    </tr>\n",
       "    <tr>\n",
       "      <th>2</th>\n",
       "      <td>65.0</td>\n",
       "      <td>0</td>\n",
       "      <td>146</td>\n",
       "      <td>0</td>\n",
       "      <td>20</td>\n",
       "      <td>0</td>\n",
       "      <td>162000.00</td>\n",
       "      <td>1.3</td>\n",
       "      <td>129</td>\n",
       "      <td>1</td>\n",
       "      <td>1</td>\n",
       "      <td>7</td>\n",
       "      <td>1</td>\n",
       "    </tr>\n",
       "    <tr>\n",
       "      <th>3</th>\n",
       "      <td>50.0</td>\n",
       "      <td>1</td>\n",
       "      <td>111</td>\n",
       "      <td>0</td>\n",
       "      <td>20</td>\n",
       "      <td>0</td>\n",
       "      <td>210000.00</td>\n",
       "      <td>1.9</td>\n",
       "      <td>137</td>\n",
       "      <td>1</td>\n",
       "      <td>0</td>\n",
       "      <td>7</td>\n",
       "      <td>1</td>\n",
       "    </tr>\n",
       "    <tr>\n",
       "      <th>4</th>\n",
       "      <td>65.0</td>\n",
       "      <td>1</td>\n",
       "      <td>160</td>\n",
       "      <td>1</td>\n",
       "      <td>20</td>\n",
       "      <td>0</td>\n",
       "      <td>327000.00</td>\n",
       "      <td>2.7</td>\n",
       "      <td>116</td>\n",
       "      <td>0</td>\n",
       "      <td>0</td>\n",
       "      <td>8</td>\n",
       "      <td>1</td>\n",
       "    </tr>\n",
       "    <tr>\n",
       "      <th>...</th>\n",
       "      <td>...</td>\n",
       "      <td>...</td>\n",
       "      <td>...</td>\n",
       "      <td>...</td>\n",
       "      <td>...</td>\n",
       "      <td>...</td>\n",
       "      <td>...</td>\n",
       "      <td>...</td>\n",
       "      <td>...</td>\n",
       "      <td>...</td>\n",
       "      <td>...</td>\n",
       "      <td>...</td>\n",
       "      <td>...</td>\n",
       "    </tr>\n",
       "    <tr>\n",
       "      <th>294</th>\n",
       "      <td>62.0</td>\n",
       "      <td>0</td>\n",
       "      <td>61</td>\n",
       "      <td>1</td>\n",
       "      <td>38</td>\n",
       "      <td>1</td>\n",
       "      <td>155000.00</td>\n",
       "      <td>1.1</td>\n",
       "      <td>143</td>\n",
       "      <td>1</td>\n",
       "      <td>1</td>\n",
       "      <td>270</td>\n",
       "      <td>0</td>\n",
       "    </tr>\n",
       "    <tr>\n",
       "      <th>295</th>\n",
       "      <td>55.0</td>\n",
       "      <td>0</td>\n",
       "      <td>1820</td>\n",
       "      <td>0</td>\n",
       "      <td>38</td>\n",
       "      <td>0</td>\n",
       "      <td>270000.00</td>\n",
       "      <td>1.2</td>\n",
       "      <td>139</td>\n",
       "      <td>0</td>\n",
       "      <td>0</td>\n",
       "      <td>271</td>\n",
       "      <td>0</td>\n",
       "    </tr>\n",
       "    <tr>\n",
       "      <th>296</th>\n",
       "      <td>45.0</td>\n",
       "      <td>0</td>\n",
       "      <td>2060</td>\n",
       "      <td>1</td>\n",
       "      <td>60</td>\n",
       "      <td>0</td>\n",
       "      <td>742000.00</td>\n",
       "      <td>0.8</td>\n",
       "      <td>138</td>\n",
       "      <td>0</td>\n",
       "      <td>0</td>\n",
       "      <td>278</td>\n",
       "      <td>0</td>\n",
       "    </tr>\n",
       "    <tr>\n",
       "      <th>297</th>\n",
       "      <td>45.0</td>\n",
       "      <td>0</td>\n",
       "      <td>2413</td>\n",
       "      <td>0</td>\n",
       "      <td>38</td>\n",
       "      <td>0</td>\n",
       "      <td>140000.00</td>\n",
       "      <td>1.4</td>\n",
       "      <td>140</td>\n",
       "      <td>1</td>\n",
       "      <td>1</td>\n",
       "      <td>280</td>\n",
       "      <td>0</td>\n",
       "    </tr>\n",
       "    <tr>\n",
       "      <th>298</th>\n",
       "      <td>50.0</td>\n",
       "      <td>0</td>\n",
       "      <td>196</td>\n",
       "      <td>0</td>\n",
       "      <td>45</td>\n",
       "      <td>0</td>\n",
       "      <td>395000.00</td>\n",
       "      <td>1.6</td>\n",
       "      <td>136</td>\n",
       "      <td>1</td>\n",
       "      <td>1</td>\n",
       "      <td>285</td>\n",
       "      <td>0</td>\n",
       "    </tr>\n",
       "  </tbody>\n",
       "</table>\n",
       "<p>299 rows × 13 columns</p>\n",
       "</div>"
      ],
      "text/plain": [
       "      age  anaemia  creatinine_phosphokinase  diabetes  ejection_fraction  \\\n",
       "0    75.0        0                       582         0                 20   \n",
       "1    55.0        0                      7861         0                 38   \n",
       "2    65.0        0                       146         0                 20   \n",
       "3    50.0        1                       111         0                 20   \n",
       "4    65.0        1                       160         1                 20   \n",
       "..    ...      ...                       ...       ...                ...   \n",
       "294  62.0        0                        61         1                 38   \n",
       "295  55.0        0                      1820         0                 38   \n",
       "296  45.0        0                      2060         1                 60   \n",
       "297  45.0        0                      2413         0                 38   \n",
       "298  50.0        0                       196         0                 45   \n",
       "\n",
       "     high_blood_pressure  platelets  serum_creatinine  serum_sodium  sex  \\\n",
       "0                      1  265000.00               1.9           130    1   \n",
       "1                      0  263358.03               1.1           136    1   \n",
       "2                      0  162000.00               1.3           129    1   \n",
       "3                      0  210000.00               1.9           137    1   \n",
       "4                      0  327000.00               2.7           116    0   \n",
       "..                   ...        ...               ...           ...  ...   \n",
       "294                    1  155000.00               1.1           143    1   \n",
       "295                    0  270000.00               1.2           139    0   \n",
       "296                    0  742000.00               0.8           138    0   \n",
       "297                    0  140000.00               1.4           140    1   \n",
       "298                    0  395000.00               1.6           136    1   \n",
       "\n",
       "     smoking  time  DEATH_EVENT  \n",
       "0          0     4            1  \n",
       "1          0     6            1  \n",
       "2          1     7            1  \n",
       "3          0     7            1  \n",
       "4          0     8            1  \n",
       "..       ...   ...          ...  \n",
       "294        1   270            0  \n",
       "295        0   271            0  \n",
       "296        0   278            0  \n",
       "297        1   280            0  \n",
       "298        1   285            0  \n",
       "\n",
       "[299 rows x 13 columns]"
      ]
     },
     "execution_count": 307,
     "metadata": {},
     "output_type": "execute_result"
    }
   ],
   "source": [
    "heart_failure = pd.read_csv(\"heart_failure_clinical_records_dataset.csv\")\n",
    "heart_failure"
   ]
  },
  {
   "cell_type": "code",
   "execution_count": 308,
   "metadata": {},
   "outputs": [
    {
     "data": {
      "text/plain": [
       "array([-0.40824829, -0.40824829, -0.40824829, -0.40824829,  2.44948974,\n",
       "       -0.40824829, -0.40824829])"
      ]
     },
     "execution_count": 308,
     "metadata": {},
     "output_type": "execute_result"
    }
   ],
   "source": [
    "def standard_units(array):\n",
    "    \"Convert any array of numbers to standard units.\"\n",
    "    return (array - np.mean(array))/np.std(array) \n",
    "\n",
    "standard_units([0, 0, 0, 0, 1, 0, 0])"
   ]
  },
  {
   "cell_type": "code",
   "execution_count": 309,
   "metadata": {},
   "outputs": [
    {
     "data": {
      "text/plain": [
       "0      1.192945\n",
       "1     -0.491279\n",
       "2      0.350833\n",
       "3     -0.912335\n",
       "4      0.350833\n",
       "         ...   \n",
       "294    0.098199\n",
       "295   -0.491279\n",
       "296   -1.333392\n",
       "297   -1.333392\n",
       "298   -0.912335\n",
       "Name: age, Length: 299, dtype: float64"
      ]
     },
     "execution_count": 309,
     "metadata": {},
     "output_type": "execute_result"
    }
   ],
   "source": [
    "column_one = heart_failure['age']\n",
    "standard_units(column_one)"
   ]
  },
  {
   "cell_type": "code",
   "execution_count": 310,
   "metadata": {},
   "outputs": [
    {
     "name": "stdout",
     "output_type": "stream",
     "text": [
      "0      1\n",
      "1      1\n",
      "2      1\n",
      "3      1\n",
      "4      1\n",
      "      ..\n",
      "294    0\n",
      "295    0\n",
      "296    0\n",
      "297    0\n",
      "298    0\n",
      "Name: DEATH_EVENT, Length: 299, dtype: int64\n",
      "0      1.192945\n",
      "1     -0.491279\n",
      "2      0.350833\n",
      "3     -0.912335\n",
      "4      0.350833\n",
      "         ...   \n",
      "294    0.098199\n",
      "295   -0.491279\n",
      "296   -1.333392\n",
      "297   -1.333392\n",
      "298   -0.912335\n",
      "Name: age, Length: 299, dtype: float64\n"
     ]
    }
   ],
   "source": [
    "heart_failure_su = pd.DataFrame()\n",
    "\n",
    "for col in heart_failure.columns:\n",
    "    if col == 'DEATH_EVENT':\n",
    "        heart_failure_su[col] = heart_failure[col]\n",
    "    else:\n",
    "        column = heart_failure[col]\n",
    "        column_su = standard_units(column)\n",
    "        heart_failure_su[col] = column_su\n",
    "        \n",
    "  \n",
    "print(heart_failure_su['DEATH_EVENT'])\n",
    "print(heart_failure_su['age'])"
   ]
  },
  {
   "cell_type": "code",
   "execution_count": 311,
   "metadata": {},
   "outputs": [
    {
     "data": {
      "text/html": [
       "<div>\n",
       "<style scoped>\n",
       "    .dataframe tbody tr th:only-of-type {\n",
       "        vertical-align: middle;\n",
       "    }\n",
       "\n",
       "    .dataframe tbody tr th {\n",
       "        vertical-align: top;\n",
       "    }\n",
       "\n",
       "    .dataframe thead th {\n",
       "        text-align: right;\n",
       "    }\n",
       "</style>\n",
       "<table border=\"1\" class=\"dataframe\">\n",
       "  <thead>\n",
       "    <tr style=\"text-align: right;\">\n",
       "      <th></th>\n",
       "      <th>age</th>\n",
       "      <th>anaemia</th>\n",
       "      <th>creatinine_phosphokinase</th>\n",
       "      <th>diabetes</th>\n",
       "      <th>ejection_fraction</th>\n",
       "      <th>high_blood_pressure</th>\n",
       "      <th>platelets</th>\n",
       "      <th>serum_creatinine</th>\n",
       "      <th>serum_sodium</th>\n",
       "      <th>sex</th>\n",
       "      <th>smoking</th>\n",
       "      <th>time</th>\n",
       "      <th>DEATH_EVENT</th>\n",
       "    </tr>\n",
       "  </thead>\n",
       "  <tbody>\n",
       "    <tr>\n",
       "      <th>0</th>\n",
       "      <td>0.182411</td>\n",
       "      <td>1.147968</td>\n",
       "      <td>-0.494330</td>\n",
       "      <td>1.179830</td>\n",
       "      <td>-0.260991</td>\n",
       "      <td>-0.735688</td>\n",
       "      <td>-8.639651e-01</td>\n",
       "      <td>-0.478205</td>\n",
       "      <td>-0.141976</td>\n",
       "      <td>0.735688</td>\n",
       "      <td>1.454161</td>\n",
       "      <td>1.803451</td>\n",
       "      <td>0</td>\n",
       "    </tr>\n",
       "    <tr>\n",
       "      <th>1</th>\n",
       "      <td>0.182411</td>\n",
       "      <td>1.147968</td>\n",
       "      <td>-0.474715</td>\n",
       "      <td>1.179830</td>\n",
       "      <td>1.854958</td>\n",
       "      <td>-0.735688</td>\n",
       "      <td>3.729978e-02</td>\n",
       "      <td>-0.187726</td>\n",
       "      <td>1.901114</td>\n",
       "      <td>0.735688</td>\n",
       "      <td>-0.687682</td>\n",
       "      <td>0.216033</td>\n",
       "      <td>0</td>\n",
       "    </tr>\n",
       "    <tr>\n",
       "      <th>2</th>\n",
       "      <td>2.035057</td>\n",
       "      <td>-0.871105</td>\n",
       "      <td>5.471619</td>\n",
       "      <td>-0.847579</td>\n",
       "      <td>-0.260991</td>\n",
       "      <td>-0.735688</td>\n",
       "      <td>-2.084997e-01</td>\n",
       "      <td>-0.381379</td>\n",
       "      <td>-1.050016</td>\n",
       "      <td>0.735688</td>\n",
       "      <td>1.454161</td>\n",
       "      <td>-0.751905</td>\n",
       "      <td>1</td>\n",
       "    </tr>\n",
       "    <tr>\n",
       "      <th>3</th>\n",
       "      <td>0.687678</td>\n",
       "      <td>-0.871105</td>\n",
       "      <td>0.864242</td>\n",
       "      <td>-0.847579</td>\n",
       "      <td>0.162199</td>\n",
       "      <td>-0.735688</td>\n",
       "      <td>-1.621847e+00</td>\n",
       "      <td>-0.381379</td>\n",
       "      <td>-0.368986</td>\n",
       "      <td>0.735688</td>\n",
       "      <td>1.454161</td>\n",
       "      <td>0.216033</td>\n",
       "      <td>0</td>\n",
       "    </tr>\n",
       "    <tr>\n",
       "      <th>4</th>\n",
       "      <td>-0.659702</td>\n",
       "      <td>1.147968</td>\n",
       "      <td>0.000166</td>\n",
       "      <td>-0.847579</td>\n",
       "      <td>0.585389</td>\n",
       "      <td>-0.735688</td>\n",
       "      <td>4.264824e-01</td>\n",
       "      <td>-0.284552</td>\n",
       "      <td>0.085034</td>\n",
       "      <td>0.735688</td>\n",
       "      <td>1.454161</td>\n",
       "      <td>1.016195</td>\n",
       "      <td>0</td>\n",
       "    </tr>\n",
       "    <tr>\n",
       "      <th>...</th>\n",
       "      <td>...</td>\n",
       "      <td>...</td>\n",
       "      <td>...</td>\n",
       "      <td>...</td>\n",
       "      <td>...</td>\n",
       "      <td>...</td>\n",
       "      <td>...</td>\n",
       "      <td>...</td>\n",
       "      <td>...</td>\n",
       "      <td>...</td>\n",
       "      <td>...</td>\n",
       "      <td>...</td>\n",
       "      <td>...</td>\n",
       "    </tr>\n",
       "    <tr>\n",
       "      <th>294</th>\n",
       "      <td>-0.828124</td>\n",
       "      <td>-0.871105</td>\n",
       "      <td>-0.520139</td>\n",
       "      <td>-0.847579</td>\n",
       "      <td>1.008578</td>\n",
       "      <td>-0.735688</td>\n",
       "      <td>1.460889e+00</td>\n",
       "      <td>-0.671857</td>\n",
       "      <td>0.766064</td>\n",
       "      <td>0.735688</td>\n",
       "      <td>-0.687682</td>\n",
       "      <td>-0.661565</td>\n",
       "      <td>0</td>\n",
       "    </tr>\n",
       "    <tr>\n",
       "      <th>295</th>\n",
       "      <td>-0.154434</td>\n",
       "      <td>-0.871105</td>\n",
       "      <td>-0.532527</td>\n",
       "      <td>1.179830</td>\n",
       "      <td>-1.530560</td>\n",
       "      <td>-0.735688</td>\n",
       "      <td>-1.980305e+00</td>\n",
       "      <td>0.974188</td>\n",
       "      <td>-0.595996</td>\n",
       "      <td>0.735688</td>\n",
       "      <td>-0.687682</td>\n",
       "      <td>0.061162</td>\n",
       "      <td>1</td>\n",
       "    </tr>\n",
       "    <tr>\n",
       "      <th>296</th>\n",
       "      <td>1.614001</td>\n",
       "      <td>-0.871105</td>\n",
       "      <td>0.230380</td>\n",
       "      <td>-0.847579</td>\n",
       "      <td>-0.007077</td>\n",
       "      <td>-0.735688</td>\n",
       "      <td>7.535660e-09</td>\n",
       "      <td>-0.284552</td>\n",
       "      <td>-0.595996</td>\n",
       "      <td>0.735688</td>\n",
       "      <td>-0.687682</td>\n",
       "      <td>-0.274389</td>\n",
       "      <td>1</td>\n",
       "    </tr>\n",
       "    <tr>\n",
       "      <th>297</th>\n",
       "      <td>0.603467</td>\n",
       "      <td>1.147968</td>\n",
       "      <td>0.066236</td>\n",
       "      <td>-0.847579</td>\n",
       "      <td>-1.107370</td>\n",
       "      <td>-0.735688</td>\n",
       "      <td>4.264824e-01</td>\n",
       "      <td>0.683709</td>\n",
       "      <td>-1.504036</td>\n",
       "      <td>0.735688</td>\n",
       "      <td>-0.687682</td>\n",
       "      <td>-0.287295</td>\n",
       "      <td>0</td>\n",
       "    </tr>\n",
       "    <tr>\n",
       "      <th>298</th>\n",
       "      <td>-1.333392</td>\n",
       "      <td>-0.871105</td>\n",
       "      <td>-0.299216</td>\n",
       "      <td>1.179830</td>\n",
       "      <td>-0.260991</td>\n",
       "      <td>-0.735688</td>\n",
       "      <td>6.008180e+00</td>\n",
       "      <td>-0.090900</td>\n",
       "      <td>1.220084</td>\n",
       "      <td>0.735688</td>\n",
       "      <td>1.454161</td>\n",
       "      <td>-0.545412</td>\n",
       "      <td>0</td>\n",
       "    </tr>\n",
       "  </tbody>\n",
       "</table>\n",
       "<p>299 rows × 13 columns</p>\n",
       "</div>"
      ],
      "text/plain": [
       "          age   anaemia  creatinine_phosphokinase  diabetes  \\\n",
       "0    0.182411  1.147968                 -0.494330  1.179830   \n",
       "1    0.182411  1.147968                 -0.474715  1.179830   \n",
       "2    2.035057 -0.871105                  5.471619 -0.847579   \n",
       "3    0.687678 -0.871105                  0.864242 -0.847579   \n",
       "4   -0.659702  1.147968                  0.000166 -0.847579   \n",
       "..        ...       ...                       ...       ...   \n",
       "294 -0.828124 -0.871105                 -0.520139 -0.847579   \n",
       "295 -0.154434 -0.871105                 -0.532527  1.179830   \n",
       "296  1.614001 -0.871105                  0.230380 -0.847579   \n",
       "297  0.603467  1.147968                  0.066236 -0.847579   \n",
       "298 -1.333392 -0.871105                 -0.299216  1.179830   \n",
       "\n",
       "     ejection_fraction  high_blood_pressure     platelets  serum_creatinine  \\\n",
       "0            -0.260991            -0.735688 -8.639651e-01         -0.478205   \n",
       "1             1.854958            -0.735688  3.729978e-02         -0.187726   \n",
       "2            -0.260991            -0.735688 -2.084997e-01         -0.381379   \n",
       "3             0.162199            -0.735688 -1.621847e+00         -0.381379   \n",
       "4             0.585389            -0.735688  4.264824e-01         -0.284552   \n",
       "..                 ...                  ...           ...               ...   \n",
       "294           1.008578            -0.735688  1.460889e+00         -0.671857   \n",
       "295          -1.530560            -0.735688 -1.980305e+00          0.974188   \n",
       "296          -0.007077            -0.735688  7.535660e-09         -0.284552   \n",
       "297          -1.107370            -0.735688  4.264824e-01          0.683709   \n",
       "298          -0.260991            -0.735688  6.008180e+00         -0.090900   \n",
       "\n",
       "     serum_sodium       sex   smoking      time  DEATH_EVENT  \n",
       "0       -0.141976  0.735688  1.454161  1.803451            0  \n",
       "1        1.901114  0.735688 -0.687682  0.216033            0  \n",
       "2       -1.050016  0.735688  1.454161 -0.751905            1  \n",
       "3       -0.368986  0.735688  1.454161  0.216033            0  \n",
       "4        0.085034  0.735688  1.454161  1.016195            0  \n",
       "..            ...       ...       ...       ...          ...  \n",
       "294      0.766064  0.735688 -0.687682 -0.661565            0  \n",
       "295     -0.595996  0.735688 -0.687682  0.061162            1  \n",
       "296     -0.595996  0.735688 -0.687682 -0.274389            1  \n",
       "297     -1.504036  0.735688 -0.687682 -0.287295            0  \n",
       "298      1.220084  0.735688  1.454161 -0.545412            0  \n",
       "\n",
       "[299 rows x 13 columns]"
      ]
     },
     "execution_count": 311,
     "metadata": {},
     "output_type": "execute_result"
    }
   ],
   "source": [
    "#randomize rows\n",
    "heart_failure_su = heart_failure_su.sample(frac=1).reset_index(drop=True)\n",
    "heart_failure_su"
   ]
  },
  {
   "cell_type": "code",
   "execution_count": 312,
   "metadata": {},
   "outputs": [],
   "source": [
    "X = heart_failure_su.loc[:, heart_failure_su.columns != 'DEATH_EVENT']\n",
    "y = heart_failure_su['DEATH_EVENT']"
   ]
  },
  {
   "cell_type": "code",
   "execution_count": 313,
   "metadata": {},
   "outputs": [],
   "source": [
    "X_train, X_test, y_train, y_test = train_test_split(X, y, test_size = 0.3)"
   ]
  },
  {
   "cell_type": "code",
   "execution_count": 314,
   "metadata": {},
   "outputs": [],
   "source": [
    "\n",
    "k_range = range(1, 30)\n",
    "scores = {}\n",
    "scores_list = []\n",
    "\n",
    "for k in k_range:\n",
    "    knn = KNeighborsClassifier(n_neighbors=k)\n",
    "    knn.fit(X_train, y_train)\n",
    "    y_pred = knn.predict(X_test)\n",
    "    scores[k] = metrics.accuracy_score(y_test, y_pred)\n",
    "    scores_list.append(metrics.accuracy_score(y_test, y_pred))"
   ]
  },
  {
   "cell_type": "code",
   "execution_count": 315,
   "metadata": {},
   "outputs": [
    {
     "data": {
      "text/plain": [
       "Text(0, 0.5, 'Testing Accuracy')"
      ]
     },
     "execution_count": 315,
     "metadata": {},
     "output_type": "execute_result"
    },
    {
     "data": {
      "image/png": "[encoded data removed]",
      "text/plain": [
       "<Figure size 432x288 with 1 Axes>"
      ]
     },
     "metadata": {
      "needs_background": "light"
     },
     "output_type": "display_data"
    }
   ],
   "source": [
    "plt.plot(k_range, scores_list)\n",
    "plt.xlabel(\"Value of K\")\n",
    "plt.ylabel(\"Testing Accuracy\")"
   ]
  },
  {
   "cell_type": "markdown",
   "metadata": {},
   "source": [
    "It looks like k values around 11 give the highest accuracy. "
   ]
  },
  {
   "cell_type": "code",
   "execution_count": 316,
   "metadata": {},
   "outputs": [
    {
     "data": {
      "text/plain": [
       "KNeighborsClassifier(n_neighbors=7)"
      ]
     },
     "execution_count": 316,
     "metadata": {},
     "output_type": "execute_result"
    }
   ],
   "source": [
    "knn = KNeighborsClassifier(n_neighbors=7)\n",
    "knn.fit(X,y)"
   ]
  },
  {
   "cell_type": "markdown",
   "metadata": {},
   "source": [
    "I'd like to improve the accuracy rate of this classifier, so I'll check if this dataset is 
    
    ."
   ]
  },
  {
   "cell_type": "code",
   "execution_count": 317,
   "metadata": {},
   "outputs": [
    {
     "data": {
      "text/plain": [
       "<matplotlib.axes._subplots.AxesSubplot at 0x7f684d11ba00>"
      ]
     },
     "execution_count": 317,
     "metadata": {},
     "output_type": "execute_result"
    },
    {
     "data": {
      "image/png": "[encoded data removed]",
      "text/plain": [
       "<Figure size 432x288 with 1 Axes>"
      ]
     },
     "metadata": {
      "needs_background": "light"
     },
     "output_type": "display_data"
    }
   ],
   "source": [
    "sns.countplot(heart_failure_su['DEATH_EVENT'])"
   ]
  },
  {
   "cell_type": "markdown",
   "metadata": {},
   "source": [
    "It looks like there are twice as many people who survive in our dataset than people who die. I'm going to double the data of people who die, add it to the dataset, and see if the accuracy rate improves."
   ]
  },
  {
   "cell_type": "code",
   "execution_count": 318,
   "metadata": {},
   "outputs": [],
   "source": [
    "deaths = heart_failure_su[(heart_failure_su['DEATH_EVENT']==1)]\n",
    "frames = [deaths, heart_failure_su]\n",
    "heart_failure_su = pd.concat(frames)"
   ]
  },
  {
   "cell_type": "code",
   "execution_count": 319,
   "metadata": {},
   "outputs": [
    {
     "data": {
      "text/plain": [
       "Text(0, 0.5, 'Testing Accuracy')"
      ]
     },
     "execution_count": 319,
     "metadata": {},
     "output_type": "execute_result"
    },
    {
     "data": {
      "image/png": "[encoded data removed]",
      "text/plain": [
       "<Figure size 432x288 with 1 Axes>"
      ]
     },
     "metadata": {
      "needs_background": "light"
     },
     "output_type": "display_data"
    }
   ],
   "source": [
    "#randomize rows\n",
    "heart_failure_su = heart_failure_su.sample(frac=1).reset_index(drop=True)\n",
    "\n",
    "X = heart_failure_su.loc[:, heart_failure_su.columns != 'DEATH_EVENT']\n",
    "y = heart_failure_su['DEATH_EVENT']\n",
    "\n",
    "X_train, X_test, y_train, y_test = train_test_split(X, y, test_size = 0.3)\n",
    "\n",
    "\n",
    "k_range = range(1, 20)\n",
    "scores = {}\n",
    "scores_list = []\n",
    "\n",
    "for k in k_range:\n",
    "    knn = KNeighborsClassifier(n_neighbors=k)\n",
    "    knn.fit(X_train, y_train)\n",
    "    y_pred = knn.predict(X_test)\n",
    "    scores[k] = metrics.accuracy_score(y_test, y_pred)\n",
    "    scores_list.append(metrics.accuracy_score(y_test, y_pred))\n",
    "    \n",
    "plt.plot(k_range, scores_list)\n",
    "plt.xlabel(\"Value of K\")\n",
    "plt.ylabel(\"Testing Accuracy\")"
   ]
  },
  {
   "cell_type": "markdown",
   "metadata": {},
   "source": [
    "The testing accuracy did not change significantly. This means that while my original dataset was imbalanced, the class imbalance does not affect the accuaracy of the classifier."
   ]
  }
 ],
 "metadata": {
  "kernelspec": {
   "display_name": "Python 3",
   "language": "python",
   "name": "python3"
  },
  "language_info": {
   "codemirror_mode": {
    "name": "ipython",
    "version": 3
   },
   "file_extension": ".py",
   "mimetype": "text/x-python",
   "name": "python",
   "nbconvert_exporter": "python",
   "pygments_lexer": "ipython3",
   "version": "3.8.6"
  }
 },
 "nbformat": 4,
 "nbformat_minor": 4
}
